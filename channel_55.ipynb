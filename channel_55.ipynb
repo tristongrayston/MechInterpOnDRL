{
 "cells": [
  {
   "attachments": {},
   "cell_type": "markdown",
   "metadata": {},
   "source": [
    "One particularly interesting channel in `block2.res1.resadd_out` is _channel 55_. In this notebook, we will: \n",
    "1. Visualize channel 55 and demonstrate **that it positively activates on cheese and weakly negatively activates elsewhere**, \n",
    "2. Demonstrate how the agent can sometimes be retargeted using a simple synthetic activation patch, and\n",
    "3. Show that this channel can weakly increase cheese-seeking (multiply by >1), decrease cheese-seeking (zero- or mean-ablate), strongly promote cheese-avoidance (multiply by < -1), and promote no-ops (multiply by << -1). \n",
    "4. Demonstrate that in `block2.res1.resadd_out` `cheese_channels=[7,8,42,44,55,77,82,88,99,113]` appear to encode cheese position in a similar manner. With the exception of channels `7, 44, 99`, the \"cheese channels\" mimic channel 55 in that they also individually ret arget the agent's behavior"
   ]
  },
  {
   "cell_type": "code",
   "execution_count": 2,
   "metadata": {},
   "outputs": [],
   "source": [
    "try:\n",
    "    import procgen_tools\n",
    "except ImportError or ModuleNotFoundError:\n",
    "    get_ipython().run_line_magic(magic_name='pip', line='install -U git+https://github.com/ulissemini/procgen-tools')\n",
    "\n",
    "from procgen_tools.utils import setup\n",
    "\n",
    "#setup() # create directory structure and download data \n",
    "\n",
    "from procgen_tools.imports import *\n",
    "from procgen_tools import visualization, patch_utils, maze\n",
    "import os\n"
   ]
  },
  {
   "cell_type": "code",
   "execution_count": 3,
   "metadata": {},
   "outputs": [],
   "source": [
    "cheese_channels = [77, 113, 44, 88, 55, 42, 7, 8, 82, 99] \n",
    "effective_channels = [77, 113, 88, 55, 8, 82, 89]\n",
    "\n",
    "SAVE_DIR = 'experiments'\n",
    "AX_SIZE = 6"
   ]
  },
  {
   "attachments": {},
   "cell_type": "markdown",
   "metadata": {},
   "source": [
    "# Visualizing channel 55"
   ]
  },
  {
   "attachments": {},
   "cell_type": "markdown",
   "metadata": {},
   "source": [
    "Try clicking on the left-ward level editor below. Move the cheese around the maze by clicking on the yellow tile, and then clicking on the tile you want to contain the cheese. Watch the positive blue activations equivariantly translate along with the cheese!"
   ]
  },
  {
   "cell_type": "code",
   "execution_count": 4,
   "metadata": {},
   "outputs": [
    {
     "data": {
      "application/vnd.jupyter.widget-view+json": {
       "model_id": "97ff5aa138e444e8b4e8a8302724c68d",
       "version_major": 2,
       "version_minor": 0
      },
      "text/plain": [
       "Box(children=(HBox(children=(GridspecLayout(children=(Button(layout=Layout(grid_area='widget001', height='0px'…"
      ]
     },
     "metadata": {},
     "output_type": "display_data"
    },
    {
     "data": {
      "application/vnd.jupyter.widget-view+json": {
       "model_id": "1fbf508b4afd44a9993ba9601a376b5f",
       "version_major": 2,
       "version_minor": 0
      },
      "text/plain": [
       "FigureWidget({\n",
       "    'data': [{'colorscale': [[0.0, 'rgb(103,0,31)'], [0.1, 'rgb(178,24,43)'],\n",
       "                             [0.2, 'rgb(214,96,77)'], [0.3, 'rgb(244,165,130)'],\n",
       "                             [0.4, 'rgb(253,219,199)'], [0.5, 'rgb(247,247,247)'],\n",
       "                             [0.6, 'rgb(209,229,240)'], [0.7, 'rgb(146,197,222)'],\n",
       "                             [0.8, 'rgb(67,147,195)'], [0.9, 'rgb(33,102,172)'],\n",
       "                             [1.0, 'rgb(5,48,97)']],\n",
       "              'type': 'heatmap',\n",
       "              'uid': '6d5c0753-173f-40df-9819-a2de36f83313',\n",
       "              'z': array([[ 0.0265726 , -0.02839196, -0.07337211, ..., -0.0436724 , -0.02377842,\n",
       "                           -0.01424355],\n",
       "                          [-0.00080801, -0.1658973 , -0.19343747, ..., -0.17971095, -0.13789418,\n",
       "                           -0.08407795],\n",
       "                          [-0.06065787, -0.25140506, -0.23488969, ..., -0.22294298, -0.201258  ,\n",
       "                           -0.19534576],\n",
       "                          ...,\n",
       "                          [-0.05962541, -0.2505311 , -0.23379722, ..., -0.21866453, -0.20411617,\n",
       "                           -0.20397758],\n",
       "                          [-0.05711482, -0.23446661, -0.22506818, ..., -0.21692464, -0.20303142,\n",
       "                           -0.20786335],\n",
       "                          [-0.08851515, -0.23334748, -0.24487028, ..., -0.24201006, -0.22992904,\n",
       "                           -0.04521216]], dtype=float32),\n",
       "              'zmax': 1.0084193,\n",
       "              'zmid': 0,\n",
       "              'zmin': -1.0084192752838135}],\n",
       "    'layout': {'height': 500,\n",
       "               'template': '...',\n",
       "               'title': {'text': 'block2.res1.resadd_out'},\n",
       "               'width': 500,\n",
       "               'xaxis': {'side': 'top'},\n",
       "               'yaxis': {'autorange': 'reversed'}}\n",
       "})"
      ]
     },
     "metadata": {},
     "output_type": "display_data"
    },
    {
     "data": {
      "application/vnd.jupyter.widget-view+json": {
       "model_id": "223c8d179dfb44999e04be3a65b86916",
       "version_major": 2,
       "version_minor": 0
      },
      "text/plain": [
       "VBox(children=(Dropdown(description='Layers', index=19, options=('block1.conv_in0', 'block1.conv_out', 'block1…"
      ]
     },
     "metadata": {},
     "output_type": "display_data"
    },
    {
     "data": {
      "application/vnd.jupyter.widget-view+json": {
       "model_id": "28dffe6838314c7bb0433233634b6dd0",
       "version_major": 2,
       "version_minor": 0
      },
      "text/plain": [
       "HBox(children=(Text(value='', layout=Layout(width='150px'), placeholder='Custom filename'), Button(description…"
      ]
     },
     "metadata": {},
     "output_type": "display_data"
    }
   ],
   "source": [
    "# Show a maze editor side-by-side with the interactive plotter\n",
    "SEED = 1\n",
    "venv = maze.create_venv(num=1, start_level=SEED, num_levels=1) # This has to be a single maze, otherwise the vfield wont work\n",
    "\n",
    "default_settings = {'channel_slider': 55, 'label_widget': 'block2.res1.resadd_out'}\n",
    "custom_maze_plotter = visualization.ActivationsPlotter(labels, lambda activations, fig: visualization.plot_activations(activations[0], fig=fig), patch_utils.values_from_venv, hook, defaults=default_settings, venv=venv)\n",
    "\n",
    "widget_box = visualization.custom_vfield(policy, venv=venv, callback=custom_maze_plotter.update_plotter) \n",
    "display(widget_box)\n",
    "    \n",
    "custom_maze_plotter.display() "
   ]
  },
  {
   "attachments": {},
   "cell_type": "markdown",
   "metadata": {},
   "source": [
    "# Intervening on 55\n",
    "It turns out that channel 55 lets us retarget the agent somewhat reliably and strongly, moving around only a single activation in a single convolutional layer."
   ]
  },
  {
   "cell_type": "code",
   "execution_count": null,
   "metadata": {},
   "outputs": [],
   "source": [
    "# %% Try synthetically modifying each channel individually\n",
    "row_slider = IntSlider(min=0, max=15, step=1, value=5)\n",
    "col_slider = IntSlider(min=0, max=15, step=1, value=5)\n",
    "\n",
    "@interact\n",
    "def interactive_channel_patch(seed=IntSlider(min=0, max=20, step=1, value=0), value=FloatSlider(min=-30, max=30, step=0.1, value=5.6), row=row_slider, col=col_slider, channel=Dropdown(options=cheese_channels, value=55), show_padding=Checkbox(value=False)):\n",
    "    row_slider.max = col_slider.max = maze.WORLD_DIM - 1 if show_padding else maze.get_inner_grid_from_seed(seed).shape[0]\n",
    "        \n",
    "    venv = patch_utils.get_cheese_venv_pair(seed=seed)\n",
    "    patches = patch_utils.get_channel_pixel_patch(layer_name=default_layer, channel=channel, value=value, coord=(row, col)) \n",
    "    fig, axs, info = patch_utils.compare_patched_vfields(venv, patches, hook, render_padding=False, ax_size=AX_SIZE, show_components=True)\n",
    "    fig.suptitle(f'Synthetically patching {channel} (value={value})')\n",
    "\n",
    "    # Draw a red pixel at the location of the patch\n",
    "    padding = 0 if show_padding else maze.get_padding(maze.get_inner_grid_from_seed(seed))\n",
    "    visualization.plot_dots(axs[1:], (row, col), color='red', hidden_padding=padding)\n",
    "    display(fig)\n",
    "    \n",
    "    # Add a button to save the figure to experiments/visualizations\n",
    "    button = visualization.create_save_button(prefix=f'{SAVE_DIR}/c{channel}_pixel_patch', fig=fig, descriptors=defaultdict(seed=seed, value=value, row=row, col=col))\n",
    "    display(button)"
   ]
  },
  {
   "cell_type": "code",
   "execution_count": null,
   "metadata": {},
   "outputs": [],
   "source": [
    "seeds = (0, 17, 20)\n",
    "coords = [(5, col) for col in range(4, 13)]\n",
    "if os.environ.get(\"CI\"):\n",
    "    coords = coords[:1] # make CI/CD not take forever\n",
    "for seed in seeds:\n",
    "    for coord in coords:\n",
    "        print(seed, coord)\n",
    "        interactive_channel_patch(seed=seed, value=5.6, row=coord[0], col=coord[1], channel=55, show_padding=False)"
   ]
  },
  {
   "cell_type": "code",
   "execution_count": null,
   "metadata": {},
   "outputs": [],
   "source": []
  }
 ],
 "metadata": {
  "kernelspec": {
   "display_name": "Python 3 (ipykernel)",
   "language": "python",
   "name": "python3"
  },
  "language_info": {
   "codemirror_mode": {
    "name": "ipython",
    "version": 3
   },
   "file_extension": ".py",
   "mimetype": "text/x-python",
   "name": "python",
   "nbconvert_exporter": "python",
   "pygments_lexer": "ipython3",
   "version": "3.10.12"
  },
  "vscode": {
   "interpreter": {
    "hash": "d5325fcd93d346c35e37ef9de2f12c6f708e421ff5ea9084ed89e3b5f6f31f6c"
   }
  }
 },
 "nbformat": 4,
 "nbformat_minor": 4
}
