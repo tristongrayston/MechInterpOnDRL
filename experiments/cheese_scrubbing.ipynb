{
 "cells": [
  {
   "attachments": {},
   "cell_type": "markdown",
   "metadata": {},
   "source": [
    "In this notebook, you can try resampling in activations from other mazes. See how it affects behavior!"
   ]
  },
  {
   "cell_type": "code",
   "execution_count": 34,
   "metadata": {},
   "outputs": [
    {
     "name": "stdout",
     "output_type": "stream",
     "text": [
      "Already downloaded https://nerdsniper.net/mats/model_rand_region_5.pth\n"
     ]
    }
   ],
   "source": [
    "try:\n",
    "    import procgen_tools\n",
    "except ImportError:\n",
    "    get_ipython().run_line_magic(\n",
    "        magic_name=\"pip\",\n",
    "        line=\"install -U git+https://github.com/ulissemini/procgen-tools\",\n",
    "    )\n",
    "\n",
    "from procgen_tools.utils import setup\n",
    "\n",
    "setup()  # create directory structure and download data\n",
    "\n",
    "from procgen_tools.imports import *\n",
    "from procgen_tools import (\n",
    "    visualization,\n",
    "    patch_utils,\n",
    "    maze,\n",
    "    vfield,\n",
    "    vfield_stats,\n",
    "    metrics,\n",
    ")\n",
    "\n",
    "SAVE_DIR = \"playground/visualizations\"\n",
    "AX_SIZE = 6\n",
    "\n",
    "cheese_channels = [7, 8, 42, 44, 55, 77, 82, 88, 89, 99, 113]\n",
    "effective_channels = [8, 55, 77, 82, 88, 89, 113]"
   ]
  },
  {
   "cell_type": "code",
   "execution_count": 35,
   "metadata": {},
   "outputs": [],
   "source": [
    "def analyze_patch_on_ds(seed, patch, hook) -> Dict:\n",
    "    \"\"\"Analyze the patch's impact on the decision square probabilities.\n",
    "    Returns a dict with keys 'original_greedy', 'patched_greedy', and\n",
    "    'prob_change'.\"\"\"\n",
    "    grid = maze.get_inner_grid_from_seed(seed)\n",
    "    ds_loc: Tuple[int, int] = metrics.decision_square(grid)\n",
    "\n",
    "    # Move the mouse to the decision square\n",
    "    mouse_pos = maze.get_mouse_pos(grid)\n",
    "    grid[mouse_pos] = maze.EMPTY\n",
    "    grid[ds_loc] = maze.MOUSE\n",
    "    venv = maze.venv_from_grid(grid)\n",
    "    obs = venv.reset().astype(np.float32)\n",
    "\n",
    "    def categorical_to_probs(cat):\n",
    "        # Assuming categorical is logits, use softmax to get probs\n",
    "        probs = t.nn.functional.softmax(cat, dim=-1).numpy().squeeze()\n",
    "        return {k: v for k, v in zip(models.MAZE_ACTION_INDICES.keys(), probs)}\n",
    "\n",
    "    # Original probs\n",
    "    with t.no_grad():\n",
    "        categorical, _ = hook.run_with_input(obs)\n",
    "    original_probs = categorical_to_probs(categorical.logits)\n",
    "\n",
    "    # Patched probs\n",
    "    with t.no_grad():\n",
    "        categorical, _ = hook.run_with_input(obs, patches=patches)\n",
    "    patched_probs = categorical_to_probs(categorical.logits)\n",
    "\n",
    "    # Compute the greedy actions\n",
    "    original_greedy, patched_greedy = [\n",
    "        max(probs, key=probs.get) for probs in [original_probs, patched_probs]\n",
    "    ]\n",
    "\n",
    "    # Compute change in action probabilities as |original_probs -\n",
    "    # patched_probs| / 2\n",
    "    prob_change: float = 0.0\n",
    "    for action in original_probs.keys():\n",
    "        prob_change += abs(original_probs[action] - patched_probs[action])\n",
    "    prob_change /= 2\n",
    "\n",
    "    return {\n",
    "        \"original_greedy\": original_greedy,\n",
    "        \"patched_greedy\": patched_greedy,\n",
    "        \"prob_change\": prob_change,\n",
    "    }"
   ]
  },
  {
   "cell_type": "code",
   "execution_count": 36,
   "metadata": {},
   "outputs": [],
   "source": [
    "def random_combined_px_patch(\n",
    "    layer_name: str, channels: List[int], cheese_loc: Tuple[int, int] = None\n",
    "):\n",
    "    \"\"\"Get a combined patch which randomly replaces channel activations with other activations from different levels.\"\"\"\n",
    "    patches = [\n",
    "        patch_utils.get_random_patch(\n",
    "            layer_name=layer_name,\n",
    "            hook=hook,\n",
    "            channel=channel,\n",
    "            cheese_loc=cheese_loc,\n",
    "        )\n",
    "        for channel in channels\n",
    "    ]\n",
    "    combined_patch = patch_utils.compose_patches(*patches)\n",
    "    return combined_patch\n",
    "\n",
    "\n",
    "def resample_activations(\n",
    "    seed: int,\n",
    "    channels: List[int],\n",
    "    different_location: bool = False,\n",
    "    show_components: bool = False,\n",
    "):  # NOTE we're resampling from a fixed maze for all target forward passes\n",
    "    \"\"\"Resample activations for default_layer with the given channels.\n",
    "\n",
    "    Args:\n",
    "        seed (int): The seed for the maze\n",
    "        channels (List[int]): The channels to resample\n",
    "        different_location (bool, optional): If True, then the\n",
    "        resampling location is randomly sampled. Otherwise, it is the\n",
    "        cheese location. Defaults to False.\n",
    "    \"\"\"\n",
    "    render_padding = False\n",
    "\n",
    "    # Figure out the location to sample activations from\n",
    "    resampling_seed: int = (\n",
    "        np.random.randint(0, 1e8) if different_location else seed\n",
    "    )\n",
    "    resampling_loc: Tuple[int, int] = maze.get_cheese_pos_from_seed(\n",
    "        resampling_seed, flip_y=False\n",
    "    )\n",
    "    patches = random_combined_px_patch(\n",
    "        layer_name=default_layer, channels=channels, cheese_loc=resampling_loc\n",
    "    )\n",
    "\n",
    "    venv = patch_utils.get_cheese_venv_pair(seed=seed)\n",
    "    fig, axs, info = patch_utils.compare_patched_vfields(\n",
    "        venv,\n",
    "        patches,\n",
    "        hook,\n",
    "        render_padding=render_padding,\n",
    "        ax_size=AX_SIZE,\n",
    "        show_components=show_components,\n",
    "    )\n",
    "    channel_description = (\n",
    "        f\"channels {channels}\"\n",
    "        if len(channels) > 1\n",
    "        else f\"channel {channels[0]}\"\n",
    "    )\n",
    "    fig.suptitle(\n",
    "        f\"Resampling {channel_description} on seed {seed}\", fontsize=20\n",
    "    )\n",
    "\n",
    "    padding = maze.get_padding(maze.get_inner_grid_from_seed(seed))\n",
    "    visualization.plot_dots(\n",
    "        axs[1:],\n",
    "        resampling_loc,\n",
    "        is_grid=True,\n",
    "        flip_y=False,\n",
    "        hidden_padding=0 if render_padding else padding,\n",
    "    )\n",
    "    plt.show()\n",
    "\n",
    "    # Display the average vector field difference magnitude\n",
    "    avg_prob_diff = vfield.vf_diff_magnitude(info[\"diff_vfield\"]) / 2\n",
    "    print(\n",
    "        \"Action probability distributions changed by\"\n",
    "        f\" {avg_prob_diff * 100 :2.1f}% on average\"\n",
    "    )\n",
    "\n",
    "    if metrics.decision_square(info[\"original_vfield\"][\"grid\"]) is not None:\n",
    "        # Get the greedy actions\n",
    "        ds_dict = analyze_patch_on_ds(venv, patches, hook)\n",
    "        original, patched = (\n",
    "            ds_dict[\"original_greedy\"],\n",
    "            ds_dict[\"patched_greedy\"],\n",
    "        )\n",
    "\n",
    "        print(\n",
    "            f\"The greedy action {original} is now {patched}, with an average\"\n",
    "            f\" change of {ds_dict['prob_change'] * 100 :2.1f}%\"\n",
    "        )\n",
    "\n",
    "\n",
    "def get_alternate_channels(avoid_channels: List[int]) -> List[int]:\n",
    "    \"\"\"Get a list of random channels which aren't in avoid_channels.\"\"\"\n",
    "    candidate_channels = [\n",
    "        channel for channel in range(128) if channel not in avoid_channels\n",
    "    ]\n",
    "    return sorted(\n",
    "        np.random.choice(\n",
    "            candidate_channels, size=len(avoid_channels), replace=False\n",
    "        ).tolist()\n",
    "    )"
   ]
  },
  {
   "cell_type": "code",
   "execution_count": null,
   "metadata": {},
   "outputs": [],
   "source": [
    "interactive(\n",
    "    resample_activations,\n",
    "    seed=IntSlider(min=0, max=100, step=1, value=0),\n",
    "    channels=Dropdown(\n",
    "        options=[\n",
    "            cheese_channels,\n",
    "            get_alternate_channels(cheese_channels),\n",
    "            [42, 55, 77, 88],\n",
    "            [55],\n",
    "        ],\n",
    "        value=cheese_channels,\n",
    "    ),\n",
    "    different_location=Checkbox(value=False),\n",
    "    show_components=Checkbox(value=False),\n",
    ")  # TODO fix error in notebook"
   ]
  },
  {
   "attachments": {},
   "cell_type": "markdown",
   "metadata": {},
   "source": [
    "## Resampling's effect on the action taken at the decision square \n",
    "Let's first see how often resampling from the same cheese location, will change the\n",
    "decision at the decision square. \n",
    "\n",
    "1. Sample a bunch of mazes with a decision square\n",
    "2. Get the greedy action \n",
    "3. Resample activations from the same cheese location / from diff\n",
    "4. Get the greedy action again\n",
    "5. See how often the action changes"
   ]
  },
  {
   "cell_type": "code",
   "execution_count": 53,
   "metadata": {},
   "outputs": [
    {
     "name": "stdout",
     "output_type": "stream",
     "text": [
      "Loaded 80 rows from experiments/statistics/data/cheese_resampling.csv\n"
     ]
    }
   ],
   "source": [
    "# Check n seeds and tally how many times the greedy action changes,\n",
    "# and what the average change is.\n",
    "num_seeds: int = 200\n",
    "\n",
    "data = {\n",
    "    \"seed\": [],\n",
    "    \"cheese_loc_seed\": [],\n",
    "    \"original_greedy\": [],\n",
    "    \"patched_greedy\": [],\n",
    "    \"prob_change\": [],\n",
    "    \"different_location\": [],\n",
    "    \"random_channels\": [],\n",
    "    \"channels_used\": [],\n",
    "}\n",
    "data = pd.DataFrame(data)\n",
    "\n",
    "# Load in from CSV, if it exists\n",
    "csv_path = \"experiments/statistics/data/cheese_resampling.csv\"\n",
    "if os.path.exists(csv_path):\n",
    "    data = pd.read_csv(csv_path)\n",
    "    print(f\"Loaded {len(data)} rows from {csv_path}\")\n",
    "\n",
    "# Start at the first seed which hasn't been analyzed yet\n",
    "if len(data[\"seed\"]) > 0:\n",
    "    current_seed = int(data[\"seed\"].iloc[-1]) + 1\n",
    "else:\n",
    "    current_seed = 0  # Start fresh\n",
    "\n",
    "# data[\"seed\"] will contain 4 entries for each seed: one for the\n",
    "# same cheese location, and one for a different location; and\n",
    "# random_channels will be True or False for each of those.\n",
    "while (len(data[\"seed\"]) / 4) < num_seeds:\n",
    "    # Stop if the decision square doesn't exist\n",
    "    grid = maze.get_inner_grid_from_seed(current_seed)\n",
    "    # grid = maze.inner_grid(grid)\n",
    "    if metrics.decision_square(grid) is not None:\n",
    "        for different_location in [True, False]:\n",
    "            cheese_loc_seed: int = (\n",
    "                np.random.randint(0, 1e8)\n",
    "                if different_location\n",
    "                else current_seed\n",
    "            )\n",
    "            resampling_loc: Tuple[int, int] = maze.get_cheese_pos_from_seed(\n",
    "                cheese_loc_seed, flip_y=False\n",
    "            )\n",
    "            for random_channels in [True, False]:\n",
    "                # Check whether patching in other channels has an effect\n",
    "                # on the greedy action\n",
    "                channels = (\n",
    "                    get_alternate_channels(cheese_channels)\n",
    "                    if random_channels\n",
    "                    else cheese_channels\n",
    "                )\n",
    "\n",
    "                patches = random_combined_px_patch(\n",
    "                    layer_name=default_layer,\n",
    "                    channels=channels,\n",
    "                    cheese_loc=resampling_loc,\n",
    "                )\n",
    "\n",
    "                # Get the greedy actions\n",
    "                ds_dict = analyze_patch_on_ds(current_seed, patches, hook)\n",
    "                original, patched = (\n",
    "                    ds_dict[\"original_greedy\"],\n",
    "                    ds_dict[\"patched_greedy\"],\n",
    "                )\n",
    "\n",
    "                # Create a list of dictionaries with the data\n",
    "                new_data = [\n",
    "                    {\n",
    "                        \"seed\": current_seed,\n",
    "                        \"cheese_loc_seed\": cheese_loc_seed,\n",
    "                        \"original_greedy\": original,\n",
    "                        \"patched_greedy\": patched,\n",
    "                        \"prob_change\": ds_dict[\"prob_change\"],\n",
    "                        \"different_location\": int(different_location),\n",
    "                        \"random_channels\": int(random_channels),\n",
    "                        \"channels_used\": channels,\n",
    "                    }\n",
    "                ]\n",
    "\n",
    "                # Append the new data to the DataFrame\n",
    "                data = pd.concat([data, pd.DataFrame(new_data)])\n",
    "        # Save data to CSV\n",
    "        data.to_csv(csv_path, index=False)\n",
    "    current_seed += 1"
   ]
  },
  {
   "cell_type": "code",
   "execution_count": 51,
   "metadata": {},
   "outputs": [
    {
     "name": "stdout",
     "output_type": "stream",
     "text": [
      "Loaded 80 rows from experiments/statistics/data/cheese_resampling.csv\n"
     ]
    }
   ],
   "source": [
    "if os.path.exists(csv_path):\n",
    "    data = pd.read_csv(csv_path)\n",
    "    print(f\"Loaded {len(data)} rows from {csv_path}\")\n",
    "data_true = data[data[\"different_location\"] == 1]\n",
    "data_false = data[data[\"different_location\"] == 0]"
   ]
  },
  {
   "cell_type": "code",
   "execution_count": 52,
   "metadata": {},
   "outputs": [
    {
     "data": {
      "application/vnd.plotly.v1+json": {
       "config": {
        "plotlyServerURL": "https://plot.ly"
       },
       "data": [
        {
         "customdata": [
          [
           "DOWN",
           "RIGHT",
           0
          ],
          [
           "DOWN",
           "RIGHT",
           0
          ],
          [
           "DOWN",
           "RIGHT",
           0
          ],
          [
           "DOWN",
           "DOWN",
           0
          ],
          [
           "RIGHT",
           "RIGHT",
           2
          ],
          [
           "RIGHT",
           "RIGHT",
           2
          ],
          [
           "RIGHT",
           "RIGHT",
           2
          ],
          [
           "RIGHT",
           "RIGHT",
           2
          ],
          [
           "NOOP",
           "NOOP",
           3
          ],
          [
           "NOOP",
           "DOWN",
           3
          ],
          [
           "NOOP",
           "NOOP",
           3
          ],
          [
           "NOOP",
           "NOOP",
           3
          ],
          [
           "RIGHT",
           "LEFT",
           5
          ],
          [
           "RIGHT",
           "RIGHT",
           5
          ],
          [
           "RIGHT",
           "RIGHT",
           5
          ],
          [
           "RIGHT",
           "RIGHT",
           5
          ],
          [
           "RIGHT",
           "RIGHT",
           6
          ],
          [
           "RIGHT",
           "RIGHT",
           6
          ],
          [
           "RIGHT",
           "RIGHT",
           6
          ],
          [
           "RIGHT",
           "RIGHT",
           6
          ],
          [
           "NOOP",
           "NOOP",
           8
          ],
          [
           "NOOP",
           "NOOP",
           8
          ],
          [
           "NOOP",
           "NOOP",
           8
          ],
          [
           "NOOP",
           "NOOP",
           8
          ],
          [
           "NOOP",
           "NOOP",
           12
          ],
          [
           "NOOP",
           "NOOP",
           12
          ],
          [
           "NOOP",
           "UP",
           12
          ],
          [
           "NOOP",
           "NOOP",
           12
          ],
          [
           "NOOP",
           "NOOP",
           13
          ],
          [
           "NOOP",
           "NOOP",
           13
          ],
          [
           "NOOP",
           "RIGHT",
           13
          ],
          [
           "NOOP",
           "NOOP",
           13
          ],
          [
           "NOOP",
           "NOOP",
           17
          ],
          [
           "NOOP",
           "LEFT",
           17
          ],
          [
           "NOOP",
           "NOOP",
           17
          ],
          [
           "NOOP",
           "NOOP",
           17
          ],
          [
           "NOOP",
           "NOOP",
           25
          ],
          [
           "NOOP",
           "NOOP",
           25
          ],
          [
           "NOOP",
           "NOOP",
           25
          ],
          [
           "NOOP",
           "NOOP",
           25
          ],
          [
           "NOOP",
           "NOOP",
           26
          ],
          [
           "NOOP",
           "NOOP",
           26
          ],
          [
           "NOOP",
           "RIGHT",
           26
          ],
          [
           "NOOP",
           "NOOP",
           26
          ],
          [
           "DOWN",
           "DOWN",
           27
          ],
          [
           "DOWN",
           "DOWN",
           27
          ],
          [
           "DOWN",
           "DOWN",
           27
          ],
          [
           "DOWN",
           "DOWN",
           27
          ],
          [
           "UP",
           "RIGHT",
           28
          ],
          [
           "UP",
           "RIGHT",
           28
          ],
          [
           "UP",
           "RIGHT",
           28
          ],
          [
           "UP",
           "UP",
           28
          ],
          [
           "RIGHT",
           "DOWN",
           32
          ],
          [
           "RIGHT",
           "RIGHT",
           32
          ],
          [
           "RIGHT",
           "RIGHT",
           32
          ],
          [
           "RIGHT",
           "RIGHT",
           32
          ],
          [
           "NOOP",
           "NOOP",
           33
          ],
          [
           "NOOP",
           "NOOP",
           33
          ],
          [
           "NOOP",
           "NOOP",
           33
          ],
          [
           "NOOP",
           "NOOP",
           33
          ],
          [
           "RIGHT",
           "RIGHT",
           34
          ],
          [
           "RIGHT",
           "DOWN",
           34
          ],
          [
           "RIGHT",
           "RIGHT",
           34
          ],
          [
           "RIGHT",
           "RIGHT",
           34
          ],
          [
           "NOOP",
           "NOOP",
           38
          ],
          [
           "NOOP",
           "RIGHT",
           38
          ],
          [
           "NOOP",
           "NOOP",
           38
          ],
          [
           "NOOP",
           "NOOP",
           38
          ],
          [
           "NOOP",
           "NOOP",
           43
          ],
          [
           "NOOP",
           "NOOP",
           43
          ],
          [
           "NOOP",
           "NOOP",
           43
          ],
          [
           "NOOP",
           "NOOP",
           43
          ],
          [
           "UP",
           "UP",
           45
          ],
          [
           "UP",
           "UP",
           45
          ],
          [
           "UP",
           "UP",
           45
          ],
          [
           "UP",
           "LEFT",
           45
          ],
          [
           "RIGHT",
           "RIGHT",
           46
          ],
          [
           "RIGHT",
           "RIGHT",
           46
          ],
          [
           "RIGHT",
           "RIGHT",
           46
          ],
          [
           "RIGHT",
           "RIGHT",
           46
          ]
         ],
         "hovertemplate": "Seed: %{customdata[2]}<br>ΔP, same location: %{x:.2f}<br>ΔP, different location: %{y:.2f}",
         "legendgroup": "1.0",
         "marker": {
          "color": "#636efa",
          "symbol": "circle"
         },
         "mode": "markers",
         "name": "1.0",
         "orientation": "v",
         "showlegend": true,
         "type": "scatter",
         "x": [
          0.0165801038965582,
          0.0068899383768439,
          0.0003290561726316,
          0.0706317941658198,
          0.0019427713414188,
          0.0020889524021185,
          0.0080004513729363,
          0.0163791561499238,
          0.0018070220558001,
          0.0001490684080636,
          0.0068855315912514,
          0.1650951547781005,
          0.0243465779349207,
          0.0965977790765464,
          0.0166989397257566,
          0.0742046170053072,
          0.0011411363520892,
          0.0108977036361466,
          0.0236555181909352,
          0.0838531041517853
         ],
         "xaxis": "x",
         "y": [
          0.0536266444250941,
          0.0091943647712469,
          0.00192057993263,
          0.1687499356921762,
          0.0004374960990389,
          0.0018815176154021,
          0.0059868354583159,
          0.008319285698235,
          0.00153159995034,
          0.0171775131020694,
          0.0006427719490602,
          0.1555530132027343,
          0.0832024225965142,
          0.2794402134604752,
          0.0195508417673409,
          0.1198835578397847,
          0.0005914108187425,
          0.0012933510133734,
          0.0249625397846102,
          0.0842823260463774
         ],
         "yaxis": "y"
        },
        {
         "customdata": [
          [
           "DOWN",
           "RIGHT",
           0
          ],
          [
           "DOWN",
           "RIGHT",
           0
          ],
          [
           "DOWN",
           "RIGHT",
           0
          ],
          [
           "DOWN",
           "DOWN",
           0
          ],
          [
           "RIGHT",
           "RIGHT",
           2
          ],
          [
           "RIGHT",
           "RIGHT",
           2
          ],
          [
           "RIGHT",
           "RIGHT",
           2
          ],
          [
           "RIGHT",
           "RIGHT",
           2
          ],
          [
           "NOOP",
           "NOOP",
           3
          ],
          [
           "NOOP",
           "DOWN",
           3
          ],
          [
           "NOOP",
           "NOOP",
           3
          ],
          [
           "NOOP",
           "NOOP",
           3
          ],
          [
           "RIGHT",
           "LEFT",
           5
          ],
          [
           "RIGHT",
           "RIGHT",
           5
          ],
          [
           "RIGHT",
           "RIGHT",
           5
          ],
          [
           "RIGHT",
           "RIGHT",
           5
          ],
          [
           "RIGHT",
           "RIGHT",
           6
          ],
          [
           "RIGHT",
           "RIGHT",
           6
          ],
          [
           "RIGHT",
           "RIGHT",
           6
          ],
          [
           "RIGHT",
           "RIGHT",
           6
          ],
          [
           "NOOP",
           "NOOP",
           8
          ],
          [
           "NOOP",
           "NOOP",
           8
          ],
          [
           "NOOP",
           "NOOP",
           8
          ],
          [
           "NOOP",
           "NOOP",
           8
          ],
          [
           "NOOP",
           "NOOP",
           12
          ],
          [
           "NOOP",
           "NOOP",
           12
          ],
          [
           "NOOP",
           "UP",
           12
          ],
          [
           "NOOP",
           "NOOP",
           12
          ],
          [
           "NOOP",
           "NOOP",
           13
          ],
          [
           "NOOP",
           "NOOP",
           13
          ],
          [
           "NOOP",
           "RIGHT",
           13
          ],
          [
           "NOOP",
           "NOOP",
           13
          ],
          [
           "NOOP",
           "NOOP",
           17
          ],
          [
           "NOOP",
           "LEFT",
           17
          ],
          [
           "NOOP",
           "NOOP",
           17
          ],
          [
           "NOOP",
           "NOOP",
           17
          ],
          [
           "NOOP",
           "NOOP",
           25
          ],
          [
           "NOOP",
           "NOOP",
           25
          ],
          [
           "NOOP",
           "NOOP",
           25
          ],
          [
           "NOOP",
           "NOOP",
           25
          ],
          [
           "NOOP",
           "NOOP",
           26
          ],
          [
           "NOOP",
           "NOOP",
           26
          ],
          [
           "NOOP",
           "RIGHT",
           26
          ],
          [
           "NOOP",
           "NOOP",
           26
          ],
          [
           "DOWN",
           "DOWN",
           27
          ],
          [
           "DOWN",
           "DOWN",
           27
          ],
          [
           "DOWN",
           "DOWN",
           27
          ],
          [
           "DOWN",
           "DOWN",
           27
          ],
          [
           "UP",
           "RIGHT",
           28
          ],
          [
           "UP",
           "RIGHT",
           28
          ],
          [
           "UP",
           "RIGHT",
           28
          ],
          [
           "UP",
           "UP",
           28
          ],
          [
           "RIGHT",
           "DOWN",
           32
          ],
          [
           "RIGHT",
           "RIGHT",
           32
          ],
          [
           "RIGHT",
           "RIGHT",
           32
          ],
          [
           "RIGHT",
           "RIGHT",
           32
          ],
          [
           "NOOP",
           "NOOP",
           33
          ],
          [
           "NOOP",
           "NOOP",
           33
          ],
          [
           "NOOP",
           "NOOP",
           33
          ],
          [
           "NOOP",
           "NOOP",
           33
          ],
          [
           "RIGHT",
           "RIGHT",
           34
          ],
          [
           "RIGHT",
           "DOWN",
           34
          ],
          [
           "RIGHT",
           "RIGHT",
           34
          ],
          [
           "RIGHT",
           "RIGHT",
           34
          ],
          [
           "NOOP",
           "NOOP",
           38
          ],
          [
           "NOOP",
           "RIGHT",
           38
          ],
          [
           "NOOP",
           "NOOP",
           38
          ],
          [
           "NOOP",
           "NOOP",
           38
          ],
          [
           "NOOP",
           "NOOP",
           43
          ],
          [
           "NOOP",
           "NOOP",
           43
          ],
          [
           "NOOP",
           "NOOP",
           43
          ],
          [
           "NOOP",
           "NOOP",
           43
          ],
          [
           "UP",
           "UP",
           45
          ],
          [
           "UP",
           "UP",
           45
          ],
          [
           "UP",
           "UP",
           45
          ],
          [
           "UP",
           "LEFT",
           45
          ],
          [
           "RIGHT",
           "RIGHT",
           46
          ],
          [
           "RIGHT",
           "RIGHT",
           46
          ],
          [
           "RIGHT",
           "RIGHT",
           46
          ],
          [
           "RIGHT",
           "RIGHT",
           46
          ]
         ],
         "hovertemplate": "Seed: %{customdata[2]}<br>ΔP, same location: %{x:.2f}<br>ΔP, different location: %{y:.2f}",
         "legendgroup": "0.0",
         "marker": {
          "color": "#EF553B",
          "symbol": "circle"
         },
         "mode": "markers",
         "name": "0.0",
         "orientation": "v",
         "showlegend": true,
         "type": "scatter",
         "x": [
          0.0384823675267398,
          0.0216173762455582,
          0.0001620367111172,
          0.066942858044058,
          0.0035974011407233,
          0.0010482757061254,
          0.0003094479907304,
          0.00801994104404,
          0.0004655472081367,
          8.102068386506289e-05,
          0.0025659591192379,
          0.1804150353418663,
          0.0080295437946915,
          0.0687164640985429,
          0.0060483706183731,
          0.0045276965247467,
          0.0008317591418744,
          0.001839905818997,
          0.0347269277554005,
          0.0742830452509224
         ],
         "xaxis": "x",
         "y": [
          0.0796036617830395,
          0.0162123395130038,
          0.059749164385721,
          0.0281639574095606,
          0.2253251331858337,
          0.0019171658786945,
          0.0020692684338428,
          0.0052106995135545,
          0.0649017072864808,
          0.0075590375927276,
          0.0014945919974707,
          0.085110661573708,
          0.0245631895959377,
          0.0905775926075875,
          0.0162448827177286,
          0.7608955604955554,
          0.0115407841512933,
          0.0023005191906122,
          0.053628799971193,
          0.0279266526922583
         ],
         "yaxis": "y"
        }
       ],
       "layout": {
        "autosize": false,
        "height": 500,
        "legend": {
         "title": {
          "text": "color"
         },
         "tracegroupgap": 0
        },
        "margin": {
         "t": 60
        },
        "shapes": [
         {
          "line": {
           "color": "Gray",
           "dash": "dot",
           "width": 1
          },
          "type": "line",
          "x0": 0,
          "x1": 1,
          "y0": 0,
          "y1": 1
         }
        ],
        "template": {
         "data": {
          "bar": [
           {
            "error_x": {
             "color": "#2a3f5f"
            },
            "error_y": {
             "color": "#2a3f5f"
            },
            "marker": {
             "line": {
              "color": "#E5ECF6",
              "width": 0.5
             },
             "pattern": {
              "fillmode": "overlay",
              "size": 10,
              "solidity": 0.2
             }
            },
            "type": "bar"
           }
          ],
          "barpolar": [
           {
            "marker": {
             "line": {
              "color": "#E5ECF6",
              "width": 0.5
             },
             "pattern": {
              "fillmode": "overlay",
              "size": 10,
              "solidity": 0.2
             }
            },
            "type": "barpolar"
           }
          ],
          "carpet": [
           {
            "aaxis": {
             "endlinecolor": "#2a3f5f",
             "gridcolor": "white",
             "linecolor": "white",
             "minorgridcolor": "white",
             "startlinecolor": "#2a3f5f"
            },
            "baxis": {
             "endlinecolor": "#2a3f5f",
             "gridcolor": "white",
             "linecolor": "white",
             "minorgridcolor": "white",
             "startlinecolor": "#2a3f5f"
            },
            "type": "carpet"
           }
          ],
          "choropleth": [
           {
            "colorbar": {
             "outlinewidth": 0,
             "ticks": ""
            },
            "type": "choropleth"
           }
          ],
          "contour": [
           {
            "colorbar": {
             "outlinewidth": 0,
             "ticks": ""
            },
            "colorscale": [
             [
              0,
              "#0d0887"
             ],
             [
              0.1111111111111111,
              "#46039f"
             ],
             [
              0.2222222222222222,
              "#7201a8"
             ],
             [
              0.3333333333333333,
              "#9c179e"
             ],
             [
              0.4444444444444444,
              "#bd3786"
             ],
             [
              0.5555555555555556,
              "#d8576b"
             ],
             [
              0.6666666666666666,
              "#ed7953"
             ],
             [
              0.7777777777777778,
              "#fb9f3a"
             ],
             [
              0.8888888888888888,
              "#fdca26"
             ],
             [
              1,
              "#f0f921"
             ]
            ],
            "type": "contour"
           }
          ],
          "contourcarpet": [
           {
            "colorbar": {
             "outlinewidth": 0,
             "ticks": ""
            },
            "type": "contourcarpet"
           }
          ],
          "heatmap": [
           {
            "colorbar": {
             "outlinewidth": 0,
             "ticks": ""
            },
            "colorscale": [
             [
              0,
              "#0d0887"
             ],
             [
              0.1111111111111111,
              "#46039f"
             ],
             [
              0.2222222222222222,
              "#7201a8"
             ],
             [
              0.3333333333333333,
              "#9c179e"
             ],
             [
              0.4444444444444444,
              "#bd3786"
             ],
             [
              0.5555555555555556,
              "#d8576b"
             ],
             [
              0.6666666666666666,
              "#ed7953"
             ],
             [
              0.7777777777777778,
              "#fb9f3a"
             ],
             [
              0.8888888888888888,
              "#fdca26"
             ],
             [
              1,
              "#f0f921"
             ]
            ],
            "type": "heatmap"
           }
          ],
          "heatmapgl": [
           {
            "colorbar": {
             "outlinewidth": 0,
             "ticks": ""
            },
            "colorscale": [
             [
              0,
              "#0d0887"
             ],
             [
              0.1111111111111111,
              "#46039f"
             ],
             [
              0.2222222222222222,
              "#7201a8"
             ],
             [
              0.3333333333333333,
              "#9c179e"
             ],
             [
              0.4444444444444444,
              "#bd3786"
             ],
             [
              0.5555555555555556,
              "#d8576b"
             ],
             [
              0.6666666666666666,
              "#ed7953"
             ],
             [
              0.7777777777777778,
              "#fb9f3a"
             ],
             [
              0.8888888888888888,
              "#fdca26"
             ],
             [
              1,
              "#f0f921"
             ]
            ],
            "type": "heatmapgl"
           }
          ],
          "histogram": [
           {
            "marker": {
             "pattern": {
              "fillmode": "overlay",
              "size": 10,
              "solidity": 0.2
             }
            },
            "type": "histogram"
           }
          ],
          "histogram2d": [
           {
            "colorbar": {
             "outlinewidth": 0,
             "ticks": ""
            },
            "colorscale": [
             [
              0,
              "#0d0887"
             ],
             [
              0.1111111111111111,
              "#46039f"
             ],
             [
              0.2222222222222222,
              "#7201a8"
             ],
             [
              0.3333333333333333,
              "#9c179e"
             ],
             [
              0.4444444444444444,
              "#bd3786"
             ],
             [
              0.5555555555555556,
              "#d8576b"
             ],
             [
              0.6666666666666666,
              "#ed7953"
             ],
             [
              0.7777777777777778,
              "#fb9f3a"
             ],
             [
              0.8888888888888888,
              "#fdca26"
             ],
             [
              1,
              "#f0f921"
             ]
            ],
            "type": "histogram2d"
           }
          ],
          "histogram2dcontour": [
           {
            "colorbar": {
             "outlinewidth": 0,
             "ticks": ""
            },
            "colorscale": [
             [
              0,
              "#0d0887"
             ],
             [
              0.1111111111111111,
              "#46039f"
             ],
             [
              0.2222222222222222,
              "#7201a8"
             ],
             [
              0.3333333333333333,
              "#9c179e"
             ],
             [
              0.4444444444444444,
              "#bd3786"
             ],
             [
              0.5555555555555556,
              "#d8576b"
             ],
             [
              0.6666666666666666,
              "#ed7953"
             ],
             [
              0.7777777777777778,
              "#fb9f3a"
             ],
             [
              0.8888888888888888,
              "#fdca26"
             ],
             [
              1,
              "#f0f921"
             ]
            ],
            "type": "histogram2dcontour"
           }
          ],
          "mesh3d": [
           {
            "colorbar": {
             "outlinewidth": 0,
             "ticks": ""
            },
            "type": "mesh3d"
           }
          ],
          "parcoords": [
           {
            "line": {
             "colorbar": {
              "outlinewidth": 0,
              "ticks": ""
             }
            },
            "type": "parcoords"
           }
          ],
          "pie": [
           {
            "automargin": true,
            "type": "pie"
           }
          ],
          "scatter": [
           {
            "fillpattern": {
             "fillmode": "overlay",
             "size": 10,
             "solidity": 0.2
            },
            "type": "scatter"
           }
          ],
          "scatter3d": [
           {
            "line": {
             "colorbar": {
              "outlinewidth": 0,
              "ticks": ""
             }
            },
            "marker": {
             "colorbar": {
              "outlinewidth": 0,
              "ticks": ""
             }
            },
            "type": "scatter3d"
           }
          ],
          "scattercarpet": [
           {
            "marker": {
             "colorbar": {
              "outlinewidth": 0,
              "ticks": ""
             }
            },
            "type": "scattercarpet"
           }
          ],
          "scattergeo": [
           {
            "marker": {
             "colorbar": {
              "outlinewidth": 0,
              "ticks": ""
             }
            },
            "type": "scattergeo"
           }
          ],
          "scattergl": [
           {
            "marker": {
             "colorbar": {
              "outlinewidth": 0,
              "ticks": ""
             }
            },
            "type": "scattergl"
           }
          ],
          "scattermapbox": [
           {
            "marker": {
             "colorbar": {
              "outlinewidth": 0,
              "ticks": ""
             }
            },
            "type": "scattermapbox"
           }
          ],
          "scatterpolar": [
           {
            "marker": {
             "colorbar": {
              "outlinewidth": 0,
              "ticks": ""
             }
            },
            "type": "scatterpolar"
           }
          ],
          "scatterpolargl": [
           {
            "marker": {
             "colorbar": {
              "outlinewidth": 0,
              "ticks": ""
             }
            },
            "type": "scatterpolargl"
           }
          ],
          "scatterternary": [
           {
            "marker": {
             "colorbar": {
              "outlinewidth": 0,
              "ticks": ""
             }
            },
            "type": "scatterternary"
           }
          ],
          "surface": [
           {
            "colorbar": {
             "outlinewidth": 0,
             "ticks": ""
            },
            "colorscale": [
             [
              0,
              "#0d0887"
             ],
             [
              0.1111111111111111,
              "#46039f"
             ],
             [
              0.2222222222222222,
              "#7201a8"
             ],
             [
              0.3333333333333333,
              "#9c179e"
             ],
             [
              0.4444444444444444,
              "#bd3786"
             ],
             [
              0.5555555555555556,
              "#d8576b"
             ],
             [
              0.6666666666666666,
              "#ed7953"
             ],
             [
              0.7777777777777778,
              "#fb9f3a"
             ],
             [
              0.8888888888888888,
              "#fdca26"
             ],
             [
              1,
              "#f0f921"
             ]
            ],
            "type": "surface"
           }
          ],
          "table": [
           {
            "cells": {
             "fill": {
              "color": "#EBF0F8"
             },
             "line": {
              "color": "white"
             }
            },
            "header": {
             "fill": {
              "color": "#C8D4E3"
             },
             "line": {
              "color": "white"
             }
            },
            "type": "table"
           }
          ]
         },
         "layout": {
          "annotationdefaults": {
           "arrowcolor": "#2a3f5f",
           "arrowhead": 0,
           "arrowwidth": 1
          },
          "autotypenumbers": "strict",
          "coloraxis": {
           "colorbar": {
            "outlinewidth": 0,
            "ticks": ""
           }
          },
          "colorscale": {
           "diverging": [
            [
             0,
             "#8e0152"
            ],
            [
             0.1,
             "#c51b7d"
            ],
            [
             0.2,
             "#de77ae"
            ],
            [
             0.3,
             "#f1b6da"
            ],
            [
             0.4,
             "#fde0ef"
            ],
            [
             0.5,
             "#f7f7f7"
            ],
            [
             0.6,
             "#e6f5d0"
            ],
            [
             0.7,
             "#b8e186"
            ],
            [
             0.8,
             "#7fbc41"
            ],
            [
             0.9,
             "#4d9221"
            ],
            [
             1,
             "#276419"
            ]
           ],
           "sequential": [
            [
             0,
             "#0d0887"
            ],
            [
             0.1111111111111111,
             "#46039f"
            ],
            [
             0.2222222222222222,
             "#7201a8"
            ],
            [
             0.3333333333333333,
             "#9c179e"
            ],
            [
             0.4444444444444444,
             "#bd3786"
            ],
            [
             0.5555555555555556,
             "#d8576b"
            ],
            [
             0.6666666666666666,
             "#ed7953"
            ],
            [
             0.7777777777777778,
             "#fb9f3a"
            ],
            [
             0.8888888888888888,
             "#fdca26"
            ],
            [
             1,
             "#f0f921"
            ]
           ],
           "sequentialminus": [
            [
             0,
             "#0d0887"
            ],
            [
             0.1111111111111111,
             "#46039f"
            ],
            [
             0.2222222222222222,
             "#7201a8"
            ],
            [
             0.3333333333333333,
             "#9c179e"
            ],
            [
             0.4444444444444444,
             "#bd3786"
            ],
            [
             0.5555555555555556,
             "#d8576b"
            ],
            [
             0.6666666666666666,
             "#ed7953"
            ],
            [
             0.7777777777777778,
             "#fb9f3a"
            ],
            [
             0.8888888888888888,
             "#fdca26"
            ],
            [
             1,
             "#f0f921"
            ]
           ]
          },
          "colorway": [
           "#636efa",
           "#EF553B",
           "#00cc96",
           "#ab63fa",
           "#FFA15A",
           "#19d3f3",
           "#FF6692",
           "#B6E880",
           "#FF97FF",
           "#FECB52"
          ],
          "font": {
           "color": "#2a3f5f"
          },
          "geo": {
           "bgcolor": "white",
           "lakecolor": "white",
           "landcolor": "#E5ECF6",
           "showlakes": true,
           "showland": true,
           "subunitcolor": "white"
          },
          "hoverlabel": {
           "align": "left"
          },
          "hovermode": "closest",
          "mapbox": {
           "style": "light"
          },
          "paper_bgcolor": "white",
          "plot_bgcolor": "#E5ECF6",
          "polar": {
           "angularaxis": {
            "gridcolor": "white",
            "linecolor": "white",
            "ticks": ""
           },
           "bgcolor": "#E5ECF6",
           "radialaxis": {
            "gridcolor": "white",
            "linecolor": "white",
            "ticks": ""
           }
          },
          "scene": {
           "xaxis": {
            "backgroundcolor": "#E5ECF6",
            "gridcolor": "white",
            "gridwidth": 2,
            "linecolor": "white",
            "showbackground": true,
            "ticks": "",
            "zerolinecolor": "white"
           },
           "yaxis": {
            "backgroundcolor": "#E5ECF6",
            "gridcolor": "white",
            "gridwidth": 2,
            "linecolor": "white",
            "showbackground": true,
            "ticks": "",
            "zerolinecolor": "white"
           },
           "zaxis": {
            "backgroundcolor": "#E5ECF6",
            "gridcolor": "white",
            "gridwidth": 2,
            "linecolor": "white",
            "showbackground": true,
            "ticks": "",
            "zerolinecolor": "white"
           }
          },
          "shapedefaults": {
           "line": {
            "color": "#2a3f5f"
           }
          },
          "ternary": {
           "aaxis": {
            "gridcolor": "white",
            "linecolor": "white",
            "ticks": ""
           },
           "baxis": {
            "gridcolor": "white",
            "linecolor": "white",
            "ticks": ""
           },
           "bgcolor": "#E5ECF6",
           "caxis": {
            "gridcolor": "white",
            "linecolor": "white",
            "ticks": ""
           }
          },
          "title": {
           "x": 0.05
          },
          "xaxis": {
           "automargin": true,
           "gridcolor": "white",
           "linecolor": "white",
           "ticks": "",
           "title": {
            "standoff": 15
           },
           "zerolinecolor": "white",
           "zerolinewidth": 2
          },
          "yaxis": {
           "automargin": true,
           "gridcolor": "white",
           "linecolor": "white",
           "ticks": "",
           "title": {
            "standoff": 15
           },
           "zerolinecolor": "white",
           "zerolinewidth": 2
          }
         }
        },
        "title": {
         "text": "Change in action probability distribution when resampling activations"
        },
        "width": 800,
        "xaxis": {
         "anchor": "y",
         "domain": [
          0,
          1
         ],
         "range": [
          0,
          0.1894357871089596
         ],
         "title": {
          "text": "From maze with same cheese location"
         }
        },
        "yaxis": {
         "anchor": "x",
         "domain": [
          0,
          1
         ],
         "range": [
          0,
          0.7989403385203332
         ],
         "title": {
          "text": "From maze with different cheese location"
         }
        }
       }
      }
     },
     "metadata": {},
     "output_type": "display_data"
    }
   ],
   "source": [
    "# Scatter plot with different colors depending on random_channels,\n",
    "# adding a legend\n",
    "fig = px.scatter(\n",
    "    data,\n",
    "    x=data_false[\"prob_change\"],\n",
    "    y=data_true[\"prob_change\"],\n",
    "    color=data_true[\"random_channels\"].astype(str),\n",
    "    # color_discrete_map={\"0\": \"blue\", \"1\": \"red\"},\n",
    "    # labels={\"0\": \"Same location\", \"1\": \"Different location\"},\n",
    ")\n",
    "\n",
    "# Title plot and label axes and ensure same scale, with dotted line on\n",
    "# y=x\n",
    "fig.update_layout(\n",
    "    title=(\n",
    "        \"Change in action probability distribution when resampling activations\"\n",
    "    ),\n",
    "    yaxis_title=\"From maze with different cheese location\",\n",
    "    xaxis_title=\"From maze with same cheese location\",\n",
    ")\n",
    "# Show gray dotted y=x line\n",
    "fig.add_shape(\n",
    "    type=\"line\",\n",
    "    x0=0,\n",
    "    y0=0,\n",
    "    x1=1,\n",
    "    y1=1,\n",
    "    line=dict(color=\"Gray\", width=1, dash=\"dot\"),\n",
    ")\n",
    "# Set bounds to be [0, max(prob_change)] on both axes TODO update\n",
    "fig.update_xaxes(range=[0, 1.05 * max(data_false[\"prob_change\"])])\n",
    "fig.update_yaxes(range=[0, 1.05 * max(data_true[\"prob_change\"])])\n",
    "\n",
    "# Set aspect ratio to be 1:1\n",
    "fig.update_layout(\n",
    "    autosize=False,\n",
    "    width=800,\n",
    "    height=500,\n",
    ")\n",
    "\n",
    "# Hover the seed, prob changes, and show the original and patched greedy actions\n",
    "fig.update_traces(\n",
    "    hovertemplate=\"<br>\".join(\n",
    "        [\n",
    "            \"Seed: %{customdata[2]}\",\n",
    "            \"ΔP, same location: %{x:.2f}\",\n",
    "            \"ΔP, different location: %{y:.2f}\",\n",
    "            # \"Original action: %{customdata[0]}\",\n",
    "            # \"Patched action: %{customdata[1]}\",\n",
    "        ]\n",
    "    ),\n",
    "    customdata=np.stack(\n",
    "        (data[\"original_greedy\"], data[\"patched_greedy\"], data[\"seed\"]),\n",
    "        axis=-1,\n",
    "    ),\n",
    ")\n",
    "\n",
    "# Show the plot\n",
    "fig.show()"
   ]
  },
  {
   "cell_type": "code",
   "execution_count": null,
   "metadata": {},
   "outputs": [],
   "source": [
    "# Compute whether the greedy action changed\n",
    "data[\"greedy_changed\"] = data[\"original_greedy\"] != data[\"patched_greedy\"]\n",
    "\n",
    "# Print a table showing the rate of change for each case\n",
    "import prettytable\n",
    "\n",
    "table = prettytable.PrettyTable()\n",
    "table.field_names = [\n",
    "    \"Different location?\",\n",
    "    \"Random channels?\",\n",
    "    \"Rate of action change\",\n",
    "]\n",
    "for different_location in [True, False]:\n",
    "    for random_channels in [True, False]:\n",
    "        data_subset = data[\n",
    "            (data[\"different_location\"] == different_location)\n",
    "            & (data[\"random_channels\"] == random_channels)\n",
    "        ]\n",
    "        num_changed = len(data_subset[data_subset[\"greedy_changed\"] == True])\n",
    "        num_total = len(data_subset)\n",
    "        table.add_row(\n",
    "            [\n",
    "                \"Yes\" if different_location else \"No\",\n",
    "                \"Yes\" if random_channels else \"No\",\n",
    "                (\n",
    "                    f\"{num_changed} /\"\n",
    "                    f\" {num_total} ({num_changed / num_total * 100 :2.1f}%)\"\n",
    "                ),\n",
    "            ]\n",
    "        )\n",
    "print(table)"
   ]
  }
 ],
 "metadata": {
  "kernelspec": {
   "display_name": "Python 3 (ipykernel)",
   "language": "python",
   "name": "python3"
  },
  "language_info": {
   "codemirror_mode": {
    "name": "ipython",
    "version": 3
   },
   "file_extension": ".py",
   "mimetype": "text/x-python",
   "name": "python",
   "nbconvert_exporter": "python",
   "pygments_lexer": "ipython3",
   "version": "3.10.12"
  },
  "vscode": {
   "interpreter": {
    "hash": "4c77f2f46953a93e2cdf30c808e94602375d16ad6294e549473c1f301bc8b554"
   }
  }
 },
 "nbformat": 4,
 "nbformat_minor": 4
}
